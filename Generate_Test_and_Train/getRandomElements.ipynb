{
 "cells": [
  {
   "cell_type": "code",
   "execution_count": 1,
   "metadata": {},
   "outputs": [
    {
     "name": "stdout",
     "output_type": "stream",
     "text": [
      "cantidad Creada:  3000\n"
     ]
    }
   ],
   "source": [
    "import os #librería para crear carpetas\n",
    "from os import listdir\n",
    "import random\n",
    "import shutil\n",
    "\n",
    "#os.mkdir(\"Nivel_2\") #creamos la carpeta para las imágenes\n",
    "carpetaN1=\"DB_steren_edad_4\" # CARPETA CON MAYOR CANTRIDAD\n",
    "carpetaN1New=\"GENERADA\"\n",
    "os.mkdir(carpetaN1New) #creamos la carpeta para las imágenes\n",
    "#cantidadN1=len(os.listdir(carpetaN1))\n",
    "cantidadN3=3000\n",
    "#agregamos las imágenes faltantes\n",
    "imagenes=os.listdir(carpetaN1)\n",
    "\n",
    "while(True):\n",
    "    imageRan=random.choice(imagenes)\n",
    "    shutil.copy(carpetaN1+\"/\"+imageRan,carpetaN1New)\n",
    "    cantidadTemp=len(os.listdir(carpetaN1New))\n",
    "    if (cantidadTemp==cantidadN3):\n",
    "        print(\"cantidad Creada: \",cantidadTemp)\n",
    "        break"
   ]
  },
  {
   "cell_type": "code",
   "execution_count": null,
   "metadata": {},
   "outputs": [],
   "source": []
  }
 ],
 "metadata": {
  "interpreter": {
   "hash": "40c6efbe1bfe1230750b1c6b6ff43642b05be0357dd448c396fdd7cde68b7842"
  },
  "kernelspec": {
   "display_name": "Python 3.8.10 64-bit ('fa': conda)",
   "language": "python",
   "name": "python3"
  },
  "language_info": {
   "codemirror_mode": {
    "name": "ipython",
    "version": 3
   },
   "file_extension": ".py",
   "mimetype": "text/x-python",
   "name": "python",
   "nbconvert_exporter": "python",
   "pygments_lexer": "ipython3",
   "version": "3.8.10"
  },
  "orig_nbformat": 4
 },
 "nbformat": 4,
 "nbformat_minor": 2
}

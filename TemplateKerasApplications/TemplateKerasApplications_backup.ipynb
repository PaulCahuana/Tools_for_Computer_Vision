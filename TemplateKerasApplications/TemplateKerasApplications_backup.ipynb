{
 "cells": [
  {
   "cell_type": "code",
   "execution_count": 1,
   "metadata": {},
   "outputs": [],
   "source": [
    "from keras.layers import Input, Lambda, Dense, Flatten\n",
    "from keras.models import Model\n",
    "from keras.applications.vgg16 import VGG16\n",
    "from keras.applications.vgg16 import preprocess_input\n",
    "from keras.preprocessing import image\n",
    "from keras.preprocessing.image import ImageDataGenerator\n",
    "from keras.models import Sequential\n",
    "import numpy as np\n",
    "from glob import glob\n",
    "import matplotlib.pyplot as plt\n",
    "\n",
    "# re-size all the images to this\n",
    "IMAGE_SIZE = [224, 224]\n",
    "\n",
    "train_path = 'TRAINU'\n",
    "valid_path = 'TESTU'\n",
    "\n",
    "\n",
    "\n"
   ]
  },
  {
   "cell_type": "code",
   "execution_count": 2,
   "metadata": {},
   "outputs": [],
   "source": [
    "# add preprocessing layer to the front of VGG\n",
    "vgg = VGG16(input_shape=IMAGE_SIZE + [3], weights='imagenet', include_top=False)\n",
    "\n",
    "# don't train existing weights\n",
    "for layer in vgg.layers:\n",
    "    layer.trainable = False "
   ]
  },
  {
   "cell_type": "code",
   "execution_count": 3,
   "metadata": {},
   "outputs": [
    {
     "data": {
      "text/plain": [
       "['TRAINU\\\\despierto', 'TRAINU\\\\dormido']"
      ]
     },
     "execution_count": 3,
     "metadata": {},
     "output_type": "execute_result"
    }
   ],
   "source": [
    "# useful for getting number of classes\n",
    "folders = glob('TRAINU/*')\n",
    "folders"
   ]
  },
  {
   "cell_type": "code",
   "execution_count": 4,
   "metadata": {},
   "outputs": [
    {
     "name": "stdout",
     "output_type": "stream",
     "text": [
      "Model: \"functional_1\"\n",
      "_________________________________________________________________\n",
      "Layer (type)                 Output Shape              Param #   \n",
      "=================================================================\n",
      "input_1 (InputLayer)         [(None, 224, 224, 3)]     0         \n",
      "_________________________________________________________________\n",
      "block1_conv1 (Conv2D)        (None, 224, 224, 64)      1792      \n",
      "_________________________________________________________________\n",
      "block1_conv2 (Conv2D)        (None, 224, 224, 64)      36928     \n",
      "_________________________________________________________________\n",
      "block1_pool (MaxPooling2D)   (None, 112, 112, 64)      0         \n",
      "_________________________________________________________________\n",
      "block2_conv1 (Conv2D)        (None, 112, 112, 128)     73856     \n",
      "_________________________________________________________________\n",
      "block2_conv2 (Conv2D)        (None, 112, 112, 128)     147584    \n",
      "_________________________________________________________________\n",
      "block2_pool (MaxPooling2D)   (None, 56, 56, 128)       0         \n",
      "_________________________________________________________________\n",
      "block3_conv1 (Conv2D)        (None, 56, 56, 256)       295168    \n",
      "_________________________________________________________________\n",
      "block3_conv2 (Conv2D)        (None, 56, 56, 256)       590080    \n",
      "_________________________________________________________________\n",
      "block3_conv3 (Conv2D)        (None, 56, 56, 256)       590080    \n",
      "_________________________________________________________________\n",
      "block3_pool (MaxPooling2D)   (None, 28, 28, 256)       0         \n",
      "_________________________________________________________________\n",
      "block4_conv1 (Conv2D)        (None, 28, 28, 512)       1180160   \n",
      "_________________________________________________________________\n",
      "block4_conv2 (Conv2D)        (None, 28, 28, 512)       2359808   \n",
      "_________________________________________________________________\n",
      "block4_conv3 (Conv2D)        (None, 28, 28, 512)       2359808   \n",
      "_________________________________________________________________\n",
      "block4_pool (MaxPooling2D)   (None, 14, 14, 512)       0         \n",
      "_________________________________________________________________\n",
      "block5_conv1 (Conv2D)        (None, 14, 14, 512)       2359808   \n",
      "_________________________________________________________________\n",
      "block5_conv2 (Conv2D)        (None, 14, 14, 512)       2359808   \n",
      "_________________________________________________________________\n",
      "block5_conv3 (Conv2D)        (None, 14, 14, 512)       2359808   \n",
      "_________________________________________________________________\n",
      "block5_pool (MaxPooling2D)   (None, 7, 7, 512)         0         \n",
      "_________________________________________________________________\n",
      "flatten (Flatten)            (None, 25088)             0         \n",
      "_________________________________________________________________\n",
      "dense (Dense)                (None, 2)                 50178     \n",
      "=================================================================\n",
      "Total params: 14,764,866\n",
      "Trainable params: 50,178\n",
      "Non-trainable params: 14,714,688\n",
      "_________________________________________________________________\n"
     ]
    }
   ],
   "source": [
    "# our layers - you can add more if you want\n",
    "x = Flatten()(vgg.output)\n",
    "# x = Dense(1000, activation='relu')(x)\n",
    "prediction = Dense(len(folders), activation='softmax')(x)\n",
    "# create a model object\n",
    "model = Model(inputs=vgg.input, outputs=prediction)\n",
    "# view the structure of the model\n",
    "model.summary()"
   ]
  },
  {
   "cell_type": "code",
   "execution_count": 5,
   "metadata": {},
   "outputs": [],
   "source": [
    "# tell the model what cost and optimization method to use\n",
    "model.compile(\n",
    "  loss='categorical_crossentropy',\n",
    "  optimizer='adam',\n",
    "  metrics=['accuracy']\n",
    ")"
   ]
  },
  {
   "cell_type": "code",
   "execution_count": 6,
   "metadata": {},
   "outputs": [
    {
     "name": "stdout",
     "output_type": "stream",
     "text": [
      "Found 21903 images belonging to 2 classes.\n",
      "Found 5477 images belonging to 2 classes.\n"
     ]
    }
   ],
   "source": [
    "from tensorflow.keras.preprocessing.image import ImageDataGenerator\n",
    "\n",
    "train_datagen = ImageDataGenerator(rescale = 1./255,\n",
    "                                   shear_range = 0.2,\n",
    "                                   zoom_range = 0.2,\n",
    "                                   horizontal_flip = True)\n",
    "\n",
    "test_datagen = ImageDataGenerator(rescale = 1./255)\n",
    "\n",
    "training_set = train_datagen.flow_from_directory('TRAINU',\n",
    "                                                 target_size = (224, 224),\n",
    "                                                 batch_size = 32,\n",
    "                                                 class_mode = 'categorical')\n",
    "\n",
    "test_set = test_datagen.flow_from_directory('TESTU',\n",
    "                                            target_size = (224, 224),\n",
    "                                            batch_size = 32,\n",
    "                                            class_mode = 'categorical')"
   ]
  },
  {
   "cell_type": "code",
   "execution_count": 7,
   "metadata": {},
   "outputs": [
    {
     "name": "stdout",
     "output_type": "stream",
     "text": [
      "WARNING:tensorflow:From <ipython-input-7-fb9d8e17bc0b>:13: Model.fit_generator (from tensorflow.python.keras.engine.training) is deprecated and will be removed in a future version.\n",
      "Instructions for updating:\n",
      "Please use Model.fit, which supports generators.\n",
      "Epoch 1/50\n",
      "685/685 [==============================] - 333s 486ms/step - loss: 0.5296 - accuracy: 0.7593 - val_loss: 0.4031 - val_accuracy: 0.8178\n",
      "Epoch 2/50\n",
      "685/685 [==============================] - 332s 484ms/step - loss: 0.4358 - accuracy: 0.8121 - val_loss: 0.3916 - val_accuracy: 0.8454\n",
      "Epoch 3/50\n",
      "685/685 [==============================] - 333s 485ms/step - loss: 0.3978 - accuracy: 0.8288 - val_loss: 0.3786 - val_accuracy: 0.8251\n",
      "Epoch 4/50\n",
      "685/685 [==============================] - 332s 485ms/step - loss: 0.3791 - accuracy: 0.8412 - val_loss: 0.3682 - val_accuracy: 0.8342\n",
      "Epoch 5/50\n",
      "685/685 [==============================] - 332s 484ms/step - loss: 0.3458 - accuracy: 0.8602 - val_loss: 0.3241 - val_accuracy: 0.8769\n",
      "Epoch 6/50\n",
      "685/685 [==============================] - 332s 485ms/step - loss: 0.3638 - accuracy: 0.8513 - val_loss: 0.4748 - val_accuracy: 0.8386\n",
      "Epoch 7/50\n",
      "685/685 [==============================] - 333s 486ms/step - loss: 0.3545 - accuracy: 0.8584 - val_loss: 0.3067 - val_accuracy: 0.8824\n",
      "Epoch 8/50\n",
      "685/685 [==============================] - 336s 490ms/step - loss: 0.3418 - accuracy: 0.8642 - val_loss: 0.3487 - val_accuracy: 0.8740\n",
      "Epoch 9/50\n",
      "685/685 [==============================] - 352s 514ms/step - loss: 0.3452 - accuracy: 0.8619 - val_loss: 0.3982 - val_accuracy: 0.8329\n",
      "Epoch 10/50\n",
      "685/685 [==============================] - 348s 508ms/step - loss: 0.3270 - accuracy: 0.8715 - val_loss: 0.2999 - val_accuracy: 0.8853\n",
      "Epoch 11/50\n",
      "685/685 [==============================] - 352s 513ms/step - loss: 0.3130 - accuracy: 0.8776 - val_loss: 0.2914 - val_accuracy: 0.8948\n",
      "Epoch 12/50\n",
      "685/685 [==============================] - 336s 490ms/step - loss: 0.3482 - accuracy: 0.8645 - val_loss: 0.3116 - val_accuracy: 0.8835\n",
      "Epoch 13/50\n",
      "685/685 [==============================] - 328s 479ms/step - loss: 0.3071 - accuracy: 0.8789 - val_loss: 0.2875 - val_accuracy: 0.8872\n",
      "Epoch 14/50\n",
      "685/685 [==============================] - 326s 476ms/step - loss: 0.3213 - accuracy: 0.8754 - val_loss: 0.2750 - val_accuracy: 0.8976\n",
      "Epoch 15/50\n",
      "685/685 [==============================] - 326s 476ms/step - loss: 0.3155 - accuracy: 0.8781 - val_loss: 0.3255 - val_accuracy: 0.8786\n",
      "Epoch 16/50\n",
      "685/685 [==============================] - 326s 476ms/step - loss: 0.3126 - accuracy: 0.8795 - val_loss: 0.4325 - val_accuracy: 0.8592\n",
      "Epoch 17/50\n",
      "685/685 [==============================] - 325s 475ms/step - loss: 0.3165 - accuracy: 0.8776 - val_loss: 0.4897 - val_accuracy: 0.8534\n",
      "Epoch 18/50\n",
      "685/685 [==============================] - 326s 476ms/step - loss: 0.3123 - accuracy: 0.8814 - val_loss: 0.3634 - val_accuracy: 0.8762\n",
      "Epoch 19/50\n",
      "685/685 [==============================] - 327s 477ms/step - loss: 0.2974 - accuracy: 0.8837 - val_loss: 0.2994 - val_accuracy: 0.8894\n",
      "Epoch 20/50\n",
      "685/685 [==============================] - 331s 484ms/step - loss: 0.3016 - accuracy: 0.8816 - val_loss: 0.3086 - val_accuracy: 0.8937\n",
      "Epoch 21/50\n",
      "685/685 [==============================] - 328s 479ms/step - loss: 0.2974 - accuracy: 0.8854 - val_loss: 0.2837 - val_accuracy: 0.8974\n",
      "Epoch 22/50\n",
      "685/685 [==============================] - 338s 493ms/step - loss: 0.2963 - accuracy: 0.8884 - val_loss: 0.3859 - val_accuracy: 0.8797\n",
      "Epoch 23/50\n",
      "685/685 [==============================] - 388s 567ms/step - loss: 0.3149 - accuracy: 0.8822 - val_loss: 0.3087 - val_accuracy: 0.8959\n",
      "Epoch 24/50\n",
      "685/685 [==============================] - 492s 719ms/step - loss: 0.3032 - accuracy: 0.8870 - val_loss: 0.3406 - val_accuracy: 0.8879\n",
      "Epoch 25/50\n",
      "685/685 [==============================] - 430s 628ms/step - loss: 0.2901 - accuracy: 0.8875 - val_loss: 0.2606 - val_accuracy: 0.9034\n",
      "Epoch 26/50\n",
      "685/685 [==============================] - 540s 788ms/step - loss: 0.2879 - accuracy: 0.8904 - val_loss: 0.2733 - val_accuracy: 0.8988\n",
      "Epoch 27/50\n",
      "685/685 [==============================] - 541s 790ms/step - loss: 0.2801 - accuracy: 0.8940 - val_loss: 0.4263 - val_accuracy: 0.8724\n",
      "Epoch 28/50\n",
      "685/685 [==============================] - 543s 792ms/step - loss: 0.2945 - accuracy: 0.8889 - val_loss: 0.6142 - val_accuracy: 0.8351\n",
      "Epoch 29/50\n",
      "685/685 [==============================] - 556s 811ms/step - loss: 0.2775 - accuracy: 0.8939 - val_loss: 0.3797 - val_accuracy: 0.8461\n",
      "Epoch 30/50\n",
      "685/685 [==============================] - 491s 717ms/step - loss: 0.2891 - accuracy: 0.8908 - val_loss: 0.3129 - val_accuracy: 0.8921\n",
      "Epoch 31/50\n",
      "685/685 [==============================] - 468s 683ms/step - loss: 0.2714 - accuracy: 0.8986 - val_loss: 0.4805 - val_accuracy: 0.8671\n",
      "Epoch 32/50\n",
      "685/685 [==============================] - 435s 635ms/step - loss: 0.3016 - accuracy: 0.8870 - val_loss: 0.8035 - val_accuracy: 0.8090\n",
      "Epoch 33/50\n",
      "685/685 [==============================] - 442s 645ms/step - loss: 0.2825 - accuracy: 0.8944 - val_loss: 0.3511 - val_accuracy: 0.8835\n",
      "Epoch 34/50\n",
      "685/685 [==============================] - 436s 637ms/step - loss: 0.2871 - accuracy: 0.8917 - val_loss: 0.3674 - val_accuracy: 0.8868\n",
      "Epoch 35/50\n",
      "685/685 [==============================] - 437s 638ms/step - loss: 0.2948 - accuracy: 0.8916 - val_loss: 0.3461 - val_accuracy: 0.8936\n",
      "Epoch 36/50\n",
      "685/685 [==============================] - 430s 627ms/step - loss: 0.2768 - accuracy: 0.8963 - val_loss: 0.3054 - val_accuracy: 0.9009\n",
      "Epoch 37/50\n",
      "685/685 [==============================] - 443s 646ms/step - loss: 0.2750 - accuracy: 0.8951 - val_loss: 0.8011 - val_accuracy: 0.8132\n",
      "Epoch 38/50\n",
      "685/685 [==============================] - 427s 624ms/step - loss: 0.2759 - accuracy: 0.8983 - val_loss: 0.2806 - val_accuracy: 0.8968\n",
      "Epoch 39/50\n",
      "685/685 [==============================] - 462s 674ms/step - loss: 0.2946 - accuracy: 0.8901 - val_loss: 0.2905 - val_accuracy: 0.8954\n",
      "Epoch 40/50\n",
      "685/685 [==============================] - 459s 670ms/step - loss: 0.2680 - accuracy: 0.9020 - val_loss: 0.3906 - val_accuracy: 0.8881\n",
      "Epoch 41/50\n",
      "685/685 [==============================] - 449s 656ms/step - loss: 0.2822 - accuracy: 0.8981 - val_loss: 0.3867 - val_accuracy: 0.8884\n",
      "Epoch 42/50\n",
      "685/685 [==============================] - 422s 616ms/step - loss: 0.2878 - accuracy: 0.8939 - val_loss: 0.3298 - val_accuracy: 0.8956\n",
      "Epoch 43/50\n",
      "685/685 [==============================] - 422s 616ms/step - loss: 0.2636 - accuracy: 0.9011 - val_loss: 0.7310 - val_accuracy: 0.8225\n",
      "Epoch 44/50\n",
      "685/685 [==============================] - 479s 699ms/step - loss: 0.2652 - accuracy: 0.9010 - val_loss: 0.5651 - val_accuracy: 0.8477\n",
      "Epoch 45/50\n",
      "685/685 [==============================] - 511s 746ms/step - loss: 0.2828 - accuracy: 0.8959 - val_loss: 0.3099 - val_accuracy: 0.8987\n",
      "Epoch 46/50\n",
      "685/685 [==============================] - 433s 633ms/step - loss: 0.3011 - accuracy: 0.8904 - val_loss: 0.2890 - val_accuracy: 0.9102\n",
      "Epoch 47/50\n",
      "685/685 [==============================] - 428s 625ms/step - loss: 0.2739 - accuracy: 0.9001 - val_loss: 0.3671 - val_accuracy: 0.8627\n",
      "Epoch 48/50\n",
      "685/685 [==============================] - 467s 682ms/step - loss: 0.2741 - accuracy: 0.8993 - val_loss: 0.4943 - val_accuracy: 0.8054\n",
      "Epoch 49/50\n",
      "685/685 [==============================] - 386s 563ms/step - loss: 0.2873 - accuracy: 0.8944 - val_loss: 0.3100 - val_accuracy: 0.9074\n",
      "Epoch 50/50\n",
      "685/685 [==============================] - 367s 535ms/step - loss: 0.2682 - accuracy: 0.9012 - val_loss: 0.3421 - val_accuracy: 0.8905\n"
     ]
    }
   ],
   "source": [
    "# fit the model\n",
    "r = model.fit(\n",
    "  training_set,\n",
    "  validation_data=test_set,\n",
    "  epochs=50,\n",
    "  steps_per_epoch=len(training_set),\n",
    "  validation_steps=len(test_set)\n",
    ")"
   ]
  },
  {
   "cell_type": "code",
   "execution_count": 8,
   "metadata": {},
   "outputs": [
    {
     "data": {
      "image/png": "[encoded data removed]",
      "text/plain": [
       "<Figure size 432x288 with 1 Axes>"
      ]
     },
     "metadata": {
      "needs_background": "light"
     },
     "output_type": "display_data"
    },
    {
     "data": {
      "text/plain": [
       "<Figure size 432x288 with 0 Axes>"
      ]
     },
     "metadata": {},
     "output_type": "display_data"
    }
   ],
   "source": [
    "# loss\n",
    "plt.plot(r.history['loss'], label='train loss')\n",
    "plt.plot(r.history['val_loss'], label='val loss')\n",
    "plt.legend()\n",
    "plt.show()\n",
    "plt.savefig('LossVal_loss')"
   ]
  },
  {
   "cell_type": "code",
   "execution_count": 9,
   "metadata": {},
   "outputs": [
    {
     "data": {
      "image/png": "[encoded data removed]",
      "text/plain": [
       "<Figure size 432x288 with 1 Axes>"
      ]
     },
     "metadata": {
      "needs_background": "light"
     },
     "output_type": "display_data"
    },
    {
     "data": {
      "text/plain": [
       "<Figure size 432x288 with 0 Axes>"
      ]
     },
     "metadata": {},
     "output_type": "display_data"
    }
   ],
   "source": [
    "# accuracies\n",
    "plt.plot(r.history['accuracy'], label='train acc')\n",
    "plt.plot(r.history['val_accuracy'], label='val acc')\n",
    "plt.legend()\n",
    "plt.show()\n",
    "plt.savefig('AccVal_acc')"
   ]
  },
  {
   "cell_type": "code",
   "execution_count": null,
   "metadata": {},
   "outputs": [],
   "source": [
    "import tensorflow as tf\n",
    "\n",
    "from keras.models import load_model\n",
    "\n",
    "model.save('vgg16-5epochs.h5')"
   ]
  },
  {
   "cell_type": "code",
   "execution_count": null,
   "metadata": {},
   "outputs": [],
   "source": []
  }
 ],
 "metadata": {
  "kernelspec": {
   "display_name": "Python 3",
   "language": "python",
   "name": "python3"
  },
  "language_info": {
   "codemirror_mode": {
    "name": "ipython",
    "version": 3
   },
   "file_extension": ".py",
   "mimetype": "text/x-python",
   "name": "python",
   "nbconvert_exporter": "python",
   "pygments_lexer": "ipython3",
   "version": "3.8.10"
  }
 },
 "nbformat": 4,
 "nbformat_minor": 4
}

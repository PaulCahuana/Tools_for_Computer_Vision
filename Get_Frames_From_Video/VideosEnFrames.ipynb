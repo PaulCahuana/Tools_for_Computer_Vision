{
 "cells": [
  {
   "cell_type": "code",
   "execution_count": null,
   "metadata": {},
   "outputs": [],
   "source": [
    "#EXPLICACIÓN DEL CÓDIGO:\n",
    "\"\"\"\n",
    "Pasos:\n",
    "1. Crear una carpeta: \"Nivel_X_Imagenes\"\n",
    "2. Leer los videos de la carpeta de videos\n",
    "3. Generar sus imágenes  de la carpeta de videos y guardarlas en su carpeta de imagenes\n",
    "\"\"\""
   ]
  },
  {
   "cell_type": "code",
   "execution_count": 1,
   "metadata": {},
   "outputs": [
    {
     "ename": "ModuleNotFoundError",
     "evalue": "No module named 'pycocotools'",
     "output_type": "error",
     "traceback": [
      "\u001b[1;31m---------------------------------------------------------------------------\u001b[0m",
      "\u001b[1;31mModuleNotFoundError\u001b[0m                       Traceback (most recent call last)",
      "\u001b[1;32m<ipython-input-1-c39d32f95d44>\u001b[0m in \u001b[0;36m<module>\u001b[1;34m\u001b[0m\n\u001b[1;32m----> 1\u001b[1;33m \u001b[1;32mimport\u001b[0m \u001b[0mpycocotools\u001b[0m\u001b[1;33m\u001b[0m\u001b[1;33m\u001b[0m\u001b[0m\n\u001b[0m",
      "\u001b[1;31mModuleNotFoundError\u001b[0m: No module named 'pycocotools'"
     ]
    }
   ],
   "source": [
    "import pycocotools "
   ]
  },
  {
   "cell_type": "code",
   "execution_count": 5,
   "metadata": {},
   "outputs": [],
   "source": [
    "import os #librería para crear carpetas\n",
    "import cv2\n",
    "nivelPrincipal=\"Lytica_BD_Videos\"\n",
    "carpetaImagenes=nivelPrincipal+\"_Imagenes\"\n",
    "archivos=os.listdir(nivelPrincipal)\n",
    "os.makedirs(carpetaImagenes) #creamos la carpeta\n",
    "countImageNombre=0\n",
    "countSegundos=0\n",
    "#GUIA FPS: \n",
    "#FPS:1 => 218 POR SEGUNDO\n",
    "#FPS:3 => 10 POR SEGUNDO\n",
    "#FPS:10 => 3 POR SEGUNDO\n",
    "#FPS:40 => 1 POR SEGUNDO\n",
    "fps=40 # cuantas imágenes por segundo\n",
    "for i in archivos:\n",
    "    vidcap = cv2.VideoCapture(nivelPrincipal+\"/\"+i)\n",
    "    success,image = vidcap.read()\n",
    "    try: \n",
    "        while success:\n",
    "            success,image = vidcap.read()\n",
    "            if(countSegundos %fps==0): \n",
    "                cv2.imwrite(carpetaImagenes+\"/\"+i+str(countImageNombre)+\".jpg\",image)\n",
    "                countImageNombre+=1 #contador para poner nombre a las imágenes                    \n",
    "            countSegundos+=1\n",
    "        break\n",
    "    except Exception:\n",
    "        pass\n"
   ]
  },
  {
   "cell_type": "code",
   "execution_count": null,
   "metadata": {},
   "outputs": [],
   "source": [
    "# GENERAR BASE DE DATOS CON MUCHAS CARPETAS\n",
    "import cv2\n",
    "from os import remove\n",
    "import os #librería para crear carpetas\n",
    "listaDeCarpetas=[\"015\", \"020\", \"023\"]\n",
    "#listaDeCarpetas=[\"024\",\"031\", \"032\"]\n",
    "#listaDeCarpetas=[\"033\", \"034\", \"036\"]\n",
    "#listaDeCarpetas=[\"035\"]\n",
    "#listaDeClases=[\"night_noglasses\",\"nightglasses\",\"noglasses\",\"sunglasses\",\"glasses\"]\n",
    "listaDeClases=[\"night_noglasses\",\"nightglasses\",\"noglasses\",\"sunglasses\",\"glasses\"]\n",
    "#listaDeVideos=[\"nonsleepyCombination\",\"sleepyCombination\",\"slowBlinkWithNodding\",\"yawning\"]\n",
    "listaDeVideos=[\"nonsleepyCombination\",\"sleepyCombination\",\"slowBlinkWithNodding\",\"yawning\"]\n",
    "\n",
    "for i in listaDeCarpetas:\n",
    "    for j in listaDeClases:\n",
    "        for k in listaDeVideos:\n",
    "            #print(\"video:\"+i+\"/\"+j+\"/\"+k+\".avi\")\n",
    "            vidcap = cv2.VideoCapture(i+\"/\"+j+\"/\"+k+\".avi\")\n",
    "            success,image = vidcap.read()\n",
    "            count = 0\n",
    "            countImage=1\n",
    "            os.makedirs(i+\"/\"+j+\"/\"+k) #creamos la carpeta\n",
    "            try: #se termina de sacar todas las imágenes y seguimos con nuestro recorrido\n",
    "                while success:\n",
    "                    success,image = vidcap.read()\n",
    "                    count += 1\n",
    "    #               if count%10 == 0 and countImage<=2000:\n",
    "                    #f countImage<=2000:\n",
    "                        #cv2.imwrite(i+\"/\"+j+\"/\"+k+str(countImage)+\".jpg\",image)\n",
    "                    cv2.imwrite(i+\"/\"+j+\"/\"+k+\"/\"+k+str(countImage)+\".jpg\",image)\n",
    "                    countImage+=1\n",
    "                break\n",
    "            except Exception:\n",
    "                pass\n",
    "            print(\"en la carpeta: \"+i+\" de la clase: \"+j+\" en la condicion: \"+k+\" hay en imagenes: \",countImage)\n",
    "\n",
    "            \n",
    "            \n",
    "#papers hacen: \n",
    "#rateb jabbara;: 600,000\n",
    "#vijayan: no especifica\n",
    "            "
   ]
  },
  {
   "cell_type": "code",
   "execution_count": null,
   "metadata": {},
   "outputs": [],
   "source": []
  }
 ],
 "metadata": {
  "kernelspec": {
   "display_name": "Python 3",
   "language": "python",
   "name": "python3"
  },
  "language_info": {
   "codemirror_mode": {
    "name": "ipython",
    "version": 3
   },
   "file_extension": ".py",
   "mimetype": "text/x-python",
   "name": "python",
   "nbconvert_exporter": "python",
   "pygments_lexer": "ipython3",
   "version": "3.7.9"
  }
 },
 "nbformat": 4,
 "nbformat_minor": 4
}

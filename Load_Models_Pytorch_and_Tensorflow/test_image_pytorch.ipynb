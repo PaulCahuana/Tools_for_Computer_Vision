{
 "cells": [
  {
   "cell_type": "code",
   "execution_count": 38,
   "metadata": {},
   "outputs": [
    {
     "name": "stdout",
     "output_type": "stream",
     "text": [
      "tensor([[6.3782e-05, 9.3545e-05, 2.0312e-01, 7.9270e-01, 3.2503e-03, 7.3739e-04,\n",
      "         3.7406e-05]], device='cuda:0')\n",
      "-----\n",
      "35-44                                                                       (79.27%)\n",
      "25-34                                                                       (20.31%)\n",
      "45-54                                                                       (0.33%)\n",
      "55-64                                                                       (0.07%)\n",
      "16-24                                                                       (0.01%)\n",
      "0-15                                                                        (0.01%)\n"
     ]
    }
   ],
   "source": [
    "from torchvision import datasets, models, transforms\n",
    "import torch\n",
    "import torch.nn as nn\n",
    "import torch.optim as optim\n",
    "\n",
    "PATH = \"resultado/efficientnet-b0.pth\"\n",
    "\n",
    "# Load\n",
    "model = torch.load(PATH)\n",
    "model.eval()\n",
    "\n",
    "# Create the preprocessing transformation here\n",
    "transform = transforms.ToTensor()\n",
    "\n",
    "def loaddata(data_dir, batch_size, set_name, shuffle):\n",
    "    data_transforms = {\n",
    "        'train': transforms.Compose([\n",
    "            transforms.Resize(input_size),\n",
    "            transforms.CenterCrop(input_size),\n",
    "            transforms.ToTensor(),\n",
    "            transforms.Normalize([0.485, 0.456, 0.406], [0.229, 0.224, 0.225])\n",
    "        ]),\n",
    "        'test': transforms.Compose([\n",
    "            transforms.Resize(input_size),\n",
    "            transforms.CenterCrop(input_size),\n",
    "            transforms.ToTensor(),\n",
    "            transforms.Normalize([0.485, 0.456, 0.406], [0.229, 0.224, 0.225])\n",
    "        ]),\n",
    "    }\n",
    "\n",
    "from PIL import Image\n",
    "# Preprocess image\n",
    "tfms = transforms.Compose([transforms.Resize(224), transforms.ToTensor(),\n",
    "    transforms.Normalize([0.485, 0.456, 0.406], [0.229, 0.224, 0.225]),])\n",
    "img = tfms(Image.open('images/ed5.jpeg')).unsqueeze(0)\n",
    "#img = tfms(Image.open('dataset_genero/test/m/61d8cf0ad0dd825c2753b614.jpg')).unsqueeze(0)\n",
    "img= img.cuda()\n",
    "# Load ImageNet class names\n",
    "#labels_map = [\"f\",\"m\"]\n",
    "labels_map = ['0-15','16-24','25-34','35-44','45-54','55-64','65-100']\n",
    "\n",
    "# Classify\n",
    "model.eval()\n",
    "with torch.no_grad():\n",
    "    outputs = model(img)\n",
    "\n",
    "# Print predictions\n",
    "print(torch.softmax(outputs, dim=1))\n",
    "print('-----')\n",
    "\n",
    "for idx in torch.topk(outputs, k=6).indices.squeeze(0).tolist():\n",
    "    prob = torch.softmax(outputs, dim =1)[0, idx].item()\n",
    "    print('{label:<75} ({p:.2f}%)'.format(label=labels_map[idx], p=prob*100))"
   ]
  }
 ],
 "metadata": {
  "interpreter": {
   "hash": "40c6efbe1bfe1230750b1c6b6ff43642b05be0357dd448c396fdd7cde68b7842"
  },
  "kernelspec": {
   "display_name": "Python 3.8.10 ('fa')",
   "language": "python",
   "name": "python3"
  },
  "language_info": {
   "codemirror_mode": {
    "name": "ipython",
    "version": 3
   },
   "file_extension": ".py",
   "mimetype": "text/x-python",
   "name": "python",
   "nbconvert_exporter": "python",
   "pygments_lexer": "ipython3",
   "version": "3.8.10"
  },
  "orig_nbformat": 4
 },
 "nbformat": 4,
 "nbformat_minor": 2
}
